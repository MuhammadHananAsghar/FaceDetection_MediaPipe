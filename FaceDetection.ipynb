{
 "cells": [
  {
   "cell_type": "code",
   "execution_count": 1,
   "id": "0c1892f9-f10c-4e93-8f0f-818bcec6e4e5",
   "metadata": {},
   "outputs": [],
   "source": [
    "import mediapipe as mp\n",
    "import cv2\n",
    "import numpy as np\n",
    "import os"
   ]
  },
  {
   "cell_type": "code",
   "execution_count": 9,
   "id": "cf50ab97-c2c7-4870-88dc-a8046cd33c20",
   "metadata": {},
   "outputs": [
    {
     "data": {
      "text/plain": [
       "DrawingSpec(color=(224, 224, 224), thickness=1, circle_radius=1)"
      ]
     },
     "execution_count": 9,
     "metadata": {},
     "output_type": "execute_result"
    }
   ],
   "source": [
    "mp_face_detection = mp.solutions.face_detection\n",
    "\n",
    "# Drawing Utils\n",
    "mp_drawing = mp.solutions.drawing_utils \n",
    "mp_drawing.DrawingSpec(thickness=1, circle_radius=1)"
   ]
  },
  {
   "cell_type": "code",
   "execution_count": 40,
   "id": "55a303ba-1b36-48d9-ad69-ebb017cce9df",
   "metadata": {},
   "outputs": [],
   "source": [
    "face_detector = mp_face_detection.FaceDetection(\n",
    "    min_detection_confidence=0.5, \n",
    "    model_selection=1\n",
    ")"
   ]
  },
  {
   "cell_type": "code",
   "execution_count": 41,
   "id": "10698067-63f1-458a-966d-f2c91d7c286c",
   "metadata": {},
   "outputs": [],
   "source": [
    "def getface(detection):\n",
    "    xmin = detection.location_data.relative_bounding_box.xmin\n",
    "    ymin = detection.location_data.relative_bounding_box.ymin\n",
    "    width = detection.location_data.relative_bounding_box.width\n",
    "    height = detection.location_data.relative_bounding_box.height\n",
    "    xmin = int(xmin*img_w)\n",
    "    ymin = int(ymin*img_h)\n",
    "    width = int(width*img_w)\n",
    "    height = int(img_h*height)\n",
    "    return xmin, ymin, width, height"
   ]
  },
  {
   "cell_type": "code",
   "execution_count": 42,
   "id": "0df5c110-e49c-4132-842f-7997a6c45671",
   "metadata": {},
   "outputs": [],
   "source": [
    "def draw_border(img, pt1, pt2, color, thickness, r, d):\n",
    "    x1,y1 = pt1\n",
    "    x2,y2 = pt2\n",
    "    # Top left\n",
    "    cv2.line(img, (x1 + r, y1), (x1 + r + d, y1), color, thickness)\n",
    "    cv2.line(img, (x1, y1 + r), (x1, y1 + r + d), color, thickness)\n",
    "    cv2.ellipse(img, (x1 + r, y1 + r), (r, r), 180, 0, 90, color, thickness)\n",
    "    # Top right\n",
    "    cv2.line(img, (x2 - r, y1), (x2 - r - d, y1), color, thickness)\n",
    "    cv2.line(img, (x2, y1 + r), (x2, y1 + r + d), color, thickness)\n",
    "    cv2.ellipse(img, (x2 - r, y1 + r), (r, r), 270, 0, 90, color, thickness)\n",
    "    # Bottom left\n",
    "    cv2.line(img, (x1 + r, y2), (x1 + r + d, y2), color, thickness)\n",
    "    cv2.line(img, (x1, y2 - r), (x1, y2 - r - d), color, thickness)\n",
    "    cv2.ellipse(img, (x1 + r, y2 - r), (r, r), 90, 0, 90, color, thickness)\n",
    "    # Bottom right\n",
    "    cv2.line(img, (x2 - r, y2), (x2 - r - d, y2), color, thickness)\n",
    "    cv2.line(img, (x2, y2 - r), (x2, y2 - r - d), color, thickness)\n",
    "    cv2.ellipse(img, (x2 - r, y2 - r), (r, r), 0, 0, 90, color, thickness)"
   ]
  },
  {
   "cell_type": "code",
   "execution_count": 45,
   "id": "1fae073a-6b57-40b8-8700-34ab97f4bacf",
   "metadata": {},
   "outputs": [],
   "source": [
    "cap = cv2.VideoCapture(0)\n",
    "\n",
    "while cap.isOpened():\n",
    "    ret, frame = cap.read()\n",
    "    image = cv2.flip(frame, 1)\n",
    "    img_h, img_w, _ = image.shape\n",
    "    # Face Tracker\n",
    "    rgb_frame = cv2.cvtColor(image, cv2.COLOR_BGR2RGB)\n",
    "    rgb_frame.flags.writeable = False\n",
    "    results = face_detector.process(rgb_frame)\n",
    "    rgb_frame.flags.writeable = True\n",
    "    \n",
    "    # Colors\n",
    "    COLORS = (np.random.randint(0,255), np.random.randint(0,255), np.random.randint(0,255))\n",
    "    \n",
    "    for detection in results.detections:\n",
    "        xmin, ymin, width, height = getface(detection)\n",
    "        draw_border(image, (xmin, ymin), (width+xmin-10, height+ymin), COLORS, 2, 35, 10)\n",
    "\n",
    "    cv2.imshow(\"Feed\", image)    \n",
    "    if cv2.waitKey(1) & 0xFF == ord(\"q\"):\n",
    "        break\n",
    "\n",
    "cap.release()\n",
    "cv2.destroyAllWindows()"
   ]
  },
  {
   "cell_type": "code",
   "execution_count": 22,
   "id": "65afd1b4-26ca-420c-a43f-2064de6d6b95",
   "metadata": {},
   "outputs": [],
   "source": [
    "cap.release()\n",
    "cv2.destroyAllWindows()"
   ]
  },
  {
   "cell_type": "code",
   "execution_count": 21,
   "id": "09925199-9b6f-4b7d-a27d-8055ea573d67",
   "metadata": {},
   "outputs": [
    {
     "data": {
      "text/plain": [
       "xmin: 0.35656630992889404\n",
       "ymin: 0.3083587884902954\n",
       "width: 0.34156012535095215\n",
       "height: 0.45537668466567993"
      ]
     },
     "execution_count": 21,
     "metadata": {},
     "output_type": "execute_result"
    }
   ],
   "source": [
    "results.detections[0].location_data.relative_bounding_box"
   ]
  },
  {
   "cell_type": "code",
   "execution_count": null,
   "id": "da34848f-61ab-40d3-9a26-c495cb7dfc22",
   "metadata": {},
   "outputs": [],
   "source": []
  }
 ],
 "metadata": {
  "kernelspec": {
   "display_name": "Python 3 (ipykernel)",
   "language": "python",
   "name": "python3"
  },
  "language_info": {
   "codemirror_mode": {
    "name": "ipython",
    "version": 3
   },
   "file_extension": ".py",
   "mimetype": "text/x-python",
   "name": "python",
   "nbconvert_exporter": "python",
   "pygments_lexer": "ipython3",
   "version": "3.9.7"
  }
 },
 "nbformat": 4,
 "nbformat_minor": 5
}
